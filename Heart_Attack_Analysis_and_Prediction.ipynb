{
  "nbformat": 4,
  "nbformat_minor": 0,
  "metadata": {
    "kernelspec": {
      "language": "python",
      "display_name": "Python 3",
      "name": "python3"
    },
    "language_info": {
      "name": "python",
      "version": "3.7.10",
      "mimetype": "text/x-python",
      "codemirror_mode": {
        "name": "ipython",
        "version": 3
      },
      "pygments_lexer": "ipython3",
      "nbconvert_exporter": "python",
      "file_extension": ".py"
    },
    "colab": {
      "name": "Heart Attack Analysis and Prediction.ipynb",
      "provenance": [],
      "collapsed_sections": []
    }
  },
  "cells": [
    {
      "cell_type": "markdown",
      "metadata": {
        "id": "LWd1UlMnhT2s"
      },
      "source": [
        "## Importing the libraries"
      ]
    },
    {
      "cell_type": "code",
      "metadata": {
        "id": "YvGPUQaHhXfL",
        "execution": {
          "iopub.status.busy": "2021-07-16T15:15:28.200604Z",
          "iopub.execute_input": "2021-07-16T15:15:28.201049Z",
          "iopub.status.idle": "2021-07-16T15:15:29.188793Z",
          "shell.execute_reply.started": "2021-07-16T15:15:28.200953Z",
          "shell.execute_reply": "2021-07-16T15:15:29.187736Z"
        },
        "trusted": true
      },
      "source": [
        "import numpy as np\n",
        "import matplotlib.pyplot as plt\n",
        "import pandas as pd\n",
        "import seaborn as sns"
      ],
      "execution_count": null,
      "outputs": []
    },
    {
      "cell_type": "markdown",
      "metadata": {
        "id": "K1VMqkGvhc3-"
      },
      "source": [
        "## Importing the dataset"
      ]
    },
    {
      "cell_type": "code",
      "metadata": {
        "id": "M52QDmyzhh9s",
        "execution": {
          "iopub.status.busy": "2021-07-16T15:15:29.190678Z",
          "iopub.execute_input": "2021-07-16T15:15:29.191078Z",
          "iopub.status.idle": "2021-07-16T15:15:29.212530Z",
          "shell.execute_reply.started": "2021-07-16T15:15:29.191044Z",
          "shell.execute_reply": "2021-07-16T15:15:29.211719Z"
        },
        "trusted": true
      },
      "source": [
        "dataset = pd.read_csv('heart.csv')"
      ],
      "execution_count": null,
      "outputs": []
    },
    {
      "cell_type": "markdown",
      "metadata": {
        "id": "V_Tg_adV1dWO"
      },
      "source": [
        "##Data Preprocessing"
      ]
    },
    {
      "cell_type": "code",
      "metadata": {
        "id": "AjUa91JLq6Vz",
        "execution": {
          "iopub.status.busy": "2021-07-16T15:15:29.213976Z",
          "iopub.execute_input": "2021-07-16T15:15:29.214402Z",
          "iopub.status.idle": "2021-07-16T15:15:29.292857Z",
          "shell.execute_reply.started": "2021-07-16T15:15:29.214362Z",
          "shell.execute_reply": "2021-07-16T15:15:29.291775Z"
        },
        "trusted": true,
        "outputId": "17316314-3995-4371-f6be-230f88285096"
      },
      "source": [
        "dataset.describe()"
      ],
      "execution_count": null,
      "outputs": [
        {
          "execution_count": 3,
          "output_type": "execute_result",
          "data": {
            "text/plain": "              age         sex          cp      trtbps        chol         fbs  \\\ncount  303.000000  303.000000  303.000000  303.000000  303.000000  303.000000   \nmean    54.366337    0.683168    0.966997  131.623762  246.264026    0.148515   \nstd      9.082101    0.466011    1.032052   17.538143   51.830751    0.356198   \nmin     29.000000    0.000000    0.000000   94.000000  126.000000    0.000000   \n25%     47.500000    0.000000    0.000000  120.000000  211.000000    0.000000   \n50%     55.000000    1.000000    1.000000  130.000000  240.000000    0.000000   \n75%     61.000000    1.000000    2.000000  140.000000  274.500000    0.000000   \nmax     77.000000    1.000000    3.000000  200.000000  564.000000    1.000000   \n\n          restecg    thalachh        exng     oldpeak         slp         caa  \\\ncount  303.000000  303.000000  303.000000  303.000000  303.000000  303.000000   \nmean     0.528053  149.646865    0.326733    1.039604    1.399340    0.729373   \nstd      0.525860   22.905161    0.469794    1.161075    0.616226    1.022606   \nmin      0.000000   71.000000    0.000000    0.000000    0.000000    0.000000   \n25%      0.000000  133.500000    0.000000    0.000000    1.000000    0.000000   \n50%      1.000000  153.000000    0.000000    0.800000    1.000000    0.000000   \n75%      1.000000  166.000000    1.000000    1.600000    2.000000    1.000000   \nmax      2.000000  202.000000    1.000000    6.200000    2.000000    4.000000   \n\n            thall      output  \ncount  303.000000  303.000000  \nmean     2.313531    0.544554  \nstd      0.612277    0.498835  \nmin      0.000000    0.000000  \n25%      2.000000    0.000000  \n50%      2.000000    1.000000  \n75%      3.000000    1.000000  \nmax      3.000000    1.000000  ",
            "text/html": "<div>\n<style scoped>\n    .dataframe tbody tr th:only-of-type {\n        vertical-align: middle;\n    }\n\n    .dataframe tbody tr th {\n        vertical-align: top;\n    }\n\n    .dataframe thead th {\n        text-align: right;\n    }\n</style>\n<table border=\"1\" class=\"dataframe\">\n  <thead>\n    <tr style=\"text-align: right;\">\n      <th></th>\n      <th>age</th>\n      <th>sex</th>\n      <th>cp</th>\n      <th>trtbps</th>\n      <th>chol</th>\n      <th>fbs</th>\n      <th>restecg</th>\n      <th>thalachh</th>\n      <th>exng</th>\n      <th>oldpeak</th>\n      <th>slp</th>\n      <th>caa</th>\n      <th>thall</th>\n      <th>output</th>\n    </tr>\n  </thead>\n  <tbody>\n    <tr>\n      <th>count</th>\n      <td>303.000000</td>\n      <td>303.000000</td>\n      <td>303.000000</td>\n      <td>303.000000</td>\n      <td>303.000000</td>\n      <td>303.000000</td>\n      <td>303.000000</td>\n      <td>303.000000</td>\n      <td>303.000000</td>\n      <td>303.000000</td>\n      <td>303.000000</td>\n      <td>303.000000</td>\n      <td>303.000000</td>\n      <td>303.000000</td>\n    </tr>\n    <tr>\n      <th>mean</th>\n      <td>54.366337</td>\n      <td>0.683168</td>\n      <td>0.966997</td>\n      <td>131.623762</td>\n      <td>246.264026</td>\n      <td>0.148515</td>\n      <td>0.528053</td>\n      <td>149.646865</td>\n      <td>0.326733</td>\n      <td>1.039604</td>\n      <td>1.399340</td>\n      <td>0.729373</td>\n      <td>2.313531</td>\n      <td>0.544554</td>\n    </tr>\n    <tr>\n      <th>std</th>\n      <td>9.082101</td>\n      <td>0.466011</td>\n      <td>1.032052</td>\n      <td>17.538143</td>\n      <td>51.830751</td>\n      <td>0.356198</td>\n      <td>0.525860</td>\n      <td>22.905161</td>\n      <td>0.469794</td>\n      <td>1.161075</td>\n      <td>0.616226</td>\n      <td>1.022606</td>\n      <td>0.612277</td>\n      <td>0.498835</td>\n    </tr>\n    <tr>\n      <th>min</th>\n      <td>29.000000</td>\n      <td>0.000000</td>\n      <td>0.000000</td>\n      <td>94.000000</td>\n      <td>126.000000</td>\n      <td>0.000000</td>\n      <td>0.000000</td>\n      <td>71.000000</td>\n      <td>0.000000</td>\n      <td>0.000000</td>\n      <td>0.000000</td>\n      <td>0.000000</td>\n      <td>0.000000</td>\n      <td>0.000000</td>\n    </tr>\n    <tr>\n      <th>25%</th>\n      <td>47.500000</td>\n      <td>0.000000</td>\n      <td>0.000000</td>\n      <td>120.000000</td>\n      <td>211.000000</td>\n      <td>0.000000</td>\n      <td>0.000000</td>\n      <td>133.500000</td>\n      <td>0.000000</td>\n      <td>0.000000</td>\n      <td>1.000000</td>\n      <td>0.000000</td>\n      <td>2.000000</td>\n      <td>0.000000</td>\n    </tr>\n    <tr>\n      <th>50%</th>\n      <td>55.000000</td>\n      <td>1.000000</td>\n      <td>1.000000</td>\n      <td>130.000000</td>\n      <td>240.000000</td>\n      <td>0.000000</td>\n      <td>1.000000</td>\n      <td>153.000000</td>\n      <td>0.000000</td>\n      <td>0.800000</td>\n      <td>1.000000</td>\n      <td>0.000000</td>\n      <td>2.000000</td>\n      <td>1.000000</td>\n    </tr>\n    <tr>\n      <th>75%</th>\n      <td>61.000000</td>\n      <td>1.000000</td>\n      <td>2.000000</td>\n      <td>140.000000</td>\n      <td>274.500000</td>\n      <td>0.000000</td>\n      <td>1.000000</td>\n      <td>166.000000</td>\n      <td>1.000000</td>\n      <td>1.600000</td>\n      <td>2.000000</td>\n      <td>1.000000</td>\n      <td>3.000000</td>\n      <td>1.000000</td>\n    </tr>\n    <tr>\n      <th>max</th>\n      <td>77.000000</td>\n      <td>1.000000</td>\n      <td>3.000000</td>\n      <td>200.000000</td>\n      <td>564.000000</td>\n      <td>1.000000</td>\n      <td>2.000000</td>\n      <td>202.000000</td>\n      <td>1.000000</td>\n      <td>6.200000</td>\n      <td>2.000000</td>\n      <td>4.000000</td>\n      <td>3.000000</td>\n      <td>1.000000</td>\n    </tr>\n  </tbody>\n</table>\n</div>"
          },
          "metadata": {}
        }
      ]
    },
    {
      "cell_type": "code",
      "metadata": {
        "id": "-tXzMEoZwwDC",
        "execution": {
          "iopub.status.busy": "2021-07-16T15:15:29.294614Z",
          "iopub.execute_input": "2021-07-16T15:15:29.294990Z",
          "iopub.status.idle": "2021-07-16T15:15:29.302816Z",
          "shell.execute_reply.started": "2021-07-16T15:15:29.294956Z",
          "shell.execute_reply": "2021-07-16T15:15:29.301512Z"
        },
        "trusted": true
      },
      "source": [
        "corr = dataset.corr()"
      ],
      "execution_count": null,
      "outputs": []
    },
    {
      "cell_type": "code",
      "metadata": {
        "id": "Fev8LSzAx5bo",
        "execution": {
          "iopub.status.busy": "2021-07-16T15:15:29.306904Z",
          "iopub.execute_input": "2021-07-16T15:15:29.307643Z",
          "iopub.status.idle": "2021-07-16T15:15:29.339893Z",
          "shell.execute_reply.started": "2021-07-16T15:15:29.307585Z",
          "shell.execute_reply": "2021-07-16T15:15:29.338959Z"
        },
        "trusted": true,
        "outputId": "7bad0de8-40bf-4f1f-8b60-39d232139e80"
      },
      "source": [
        "corr"
      ],
      "execution_count": null,
      "outputs": [
        {
          "execution_count": 5,
          "output_type": "execute_result",
          "data": {
            "text/plain": "               age       sex        cp    trtbps      chol       fbs  \\\nage       1.000000 -0.098447 -0.068653  0.279351  0.213678  0.121308   \nsex      -0.098447  1.000000 -0.049353 -0.056769 -0.197912  0.045032   \ncp       -0.068653 -0.049353  1.000000  0.047608 -0.076904  0.094444   \ntrtbps    0.279351 -0.056769  0.047608  1.000000  0.123174  0.177531   \nchol      0.213678 -0.197912 -0.076904  0.123174  1.000000  0.013294   \nfbs       0.121308  0.045032  0.094444  0.177531  0.013294  1.000000   \nrestecg  -0.116211 -0.058196  0.044421 -0.114103 -0.151040 -0.084189   \nthalachh -0.398522 -0.044020  0.295762 -0.046698 -0.009940 -0.008567   \nexng      0.096801  0.141664 -0.394280  0.067616  0.067023  0.025665   \noldpeak   0.210013  0.096093 -0.149230  0.193216  0.053952  0.005747   \nslp      -0.168814 -0.030711  0.119717 -0.121475 -0.004038 -0.059894   \ncaa       0.276326  0.118261 -0.181053  0.101389  0.070511  0.137979   \nthall     0.068001  0.210041 -0.161736  0.062210  0.098803 -0.032019   \noutput   -0.225439 -0.280937  0.433798 -0.144931 -0.085239 -0.028046   \n\n           restecg  thalachh      exng   oldpeak       slp       caa  \\\nage      -0.116211 -0.398522  0.096801  0.210013 -0.168814  0.276326   \nsex      -0.058196 -0.044020  0.141664  0.096093 -0.030711  0.118261   \ncp        0.044421  0.295762 -0.394280 -0.149230  0.119717 -0.181053   \ntrtbps   -0.114103 -0.046698  0.067616  0.193216 -0.121475  0.101389   \nchol     -0.151040 -0.009940  0.067023  0.053952 -0.004038  0.070511   \nfbs      -0.084189 -0.008567  0.025665  0.005747 -0.059894  0.137979   \nrestecg   1.000000  0.044123 -0.070733 -0.058770  0.093045 -0.072042   \nthalachh  0.044123  1.000000 -0.378812 -0.344187  0.386784 -0.213177   \nexng     -0.070733 -0.378812  1.000000  0.288223 -0.257748  0.115739   \noldpeak  -0.058770 -0.344187  0.288223  1.000000 -0.577537  0.222682   \nslp       0.093045  0.386784 -0.257748 -0.577537  1.000000 -0.080155   \ncaa      -0.072042 -0.213177  0.115739  0.222682 -0.080155  1.000000   \nthall    -0.011981 -0.096439  0.206754  0.210244 -0.104764  0.151832   \noutput    0.137230  0.421741 -0.436757 -0.430696  0.345877 -0.391724   \n\n             thall    output  \nage       0.068001 -0.225439  \nsex       0.210041 -0.280937  \ncp       -0.161736  0.433798  \ntrtbps    0.062210 -0.144931  \nchol      0.098803 -0.085239  \nfbs      -0.032019 -0.028046  \nrestecg  -0.011981  0.137230  \nthalachh -0.096439  0.421741  \nexng      0.206754 -0.436757  \noldpeak   0.210244 -0.430696  \nslp      -0.104764  0.345877  \ncaa       0.151832 -0.391724  \nthall     1.000000 -0.344029  \noutput   -0.344029  1.000000  ",
            "text/html": "<div>\n<style scoped>\n    .dataframe tbody tr th:only-of-type {\n        vertical-align: middle;\n    }\n\n    .dataframe tbody tr th {\n        vertical-align: top;\n    }\n\n    .dataframe thead th {\n        text-align: right;\n    }\n</style>\n<table border=\"1\" class=\"dataframe\">\n  <thead>\n    <tr style=\"text-align: right;\">\n      <th></th>\n      <th>age</th>\n      <th>sex</th>\n      <th>cp</th>\n      <th>trtbps</th>\n      <th>chol</th>\n      <th>fbs</th>\n      <th>restecg</th>\n      <th>thalachh</th>\n      <th>exng</th>\n      <th>oldpeak</th>\n      <th>slp</th>\n      <th>caa</th>\n      <th>thall</th>\n      <th>output</th>\n    </tr>\n  </thead>\n  <tbody>\n    <tr>\n      <th>age</th>\n      <td>1.000000</td>\n      <td>-0.098447</td>\n      <td>-0.068653</td>\n      <td>0.279351</td>\n      <td>0.213678</td>\n      <td>0.121308</td>\n      <td>-0.116211</td>\n      <td>-0.398522</td>\n      <td>0.096801</td>\n      <td>0.210013</td>\n      <td>-0.168814</td>\n      <td>0.276326</td>\n      <td>0.068001</td>\n      <td>-0.225439</td>\n    </tr>\n    <tr>\n      <th>sex</th>\n      <td>-0.098447</td>\n      <td>1.000000</td>\n      <td>-0.049353</td>\n      <td>-0.056769</td>\n      <td>-0.197912</td>\n      <td>0.045032</td>\n      <td>-0.058196</td>\n      <td>-0.044020</td>\n      <td>0.141664</td>\n      <td>0.096093</td>\n      <td>-0.030711</td>\n      <td>0.118261</td>\n      <td>0.210041</td>\n      <td>-0.280937</td>\n    </tr>\n    <tr>\n      <th>cp</th>\n      <td>-0.068653</td>\n      <td>-0.049353</td>\n      <td>1.000000</td>\n      <td>0.047608</td>\n      <td>-0.076904</td>\n      <td>0.094444</td>\n      <td>0.044421</td>\n      <td>0.295762</td>\n      <td>-0.394280</td>\n      <td>-0.149230</td>\n      <td>0.119717</td>\n      <td>-0.181053</td>\n      <td>-0.161736</td>\n      <td>0.433798</td>\n    </tr>\n    <tr>\n      <th>trtbps</th>\n      <td>0.279351</td>\n      <td>-0.056769</td>\n      <td>0.047608</td>\n      <td>1.000000</td>\n      <td>0.123174</td>\n      <td>0.177531</td>\n      <td>-0.114103</td>\n      <td>-0.046698</td>\n      <td>0.067616</td>\n      <td>0.193216</td>\n      <td>-0.121475</td>\n      <td>0.101389</td>\n      <td>0.062210</td>\n      <td>-0.144931</td>\n    </tr>\n    <tr>\n      <th>chol</th>\n      <td>0.213678</td>\n      <td>-0.197912</td>\n      <td>-0.076904</td>\n      <td>0.123174</td>\n      <td>1.000000</td>\n      <td>0.013294</td>\n      <td>-0.151040</td>\n      <td>-0.009940</td>\n      <td>0.067023</td>\n      <td>0.053952</td>\n      <td>-0.004038</td>\n      <td>0.070511</td>\n      <td>0.098803</td>\n      <td>-0.085239</td>\n    </tr>\n    <tr>\n      <th>fbs</th>\n      <td>0.121308</td>\n      <td>0.045032</td>\n      <td>0.094444</td>\n      <td>0.177531</td>\n      <td>0.013294</td>\n      <td>1.000000</td>\n      <td>-0.084189</td>\n      <td>-0.008567</td>\n      <td>0.025665</td>\n      <td>0.005747</td>\n      <td>-0.059894</td>\n      <td>0.137979</td>\n      <td>-0.032019</td>\n      <td>-0.028046</td>\n    </tr>\n    <tr>\n      <th>restecg</th>\n      <td>-0.116211</td>\n      <td>-0.058196</td>\n      <td>0.044421</td>\n      <td>-0.114103</td>\n      <td>-0.151040</td>\n      <td>-0.084189</td>\n      <td>1.000000</td>\n      <td>0.044123</td>\n      <td>-0.070733</td>\n      <td>-0.058770</td>\n      <td>0.093045</td>\n      <td>-0.072042</td>\n      <td>-0.011981</td>\n      <td>0.137230</td>\n    </tr>\n    <tr>\n      <th>thalachh</th>\n      <td>-0.398522</td>\n      <td>-0.044020</td>\n      <td>0.295762</td>\n      <td>-0.046698</td>\n      <td>-0.009940</td>\n      <td>-0.008567</td>\n      <td>0.044123</td>\n      <td>1.000000</td>\n      <td>-0.378812</td>\n      <td>-0.344187</td>\n      <td>0.386784</td>\n      <td>-0.213177</td>\n      <td>-0.096439</td>\n      <td>0.421741</td>\n    </tr>\n    <tr>\n      <th>exng</th>\n      <td>0.096801</td>\n      <td>0.141664</td>\n      <td>-0.394280</td>\n      <td>0.067616</td>\n      <td>0.067023</td>\n      <td>0.025665</td>\n      <td>-0.070733</td>\n      <td>-0.378812</td>\n      <td>1.000000</td>\n      <td>0.288223</td>\n      <td>-0.257748</td>\n      <td>0.115739</td>\n      <td>0.206754</td>\n      <td>-0.436757</td>\n    </tr>\n    <tr>\n      <th>oldpeak</th>\n      <td>0.210013</td>\n      <td>0.096093</td>\n      <td>-0.149230</td>\n      <td>0.193216</td>\n      <td>0.053952</td>\n      <td>0.005747</td>\n      <td>-0.058770</td>\n      <td>-0.344187</td>\n      <td>0.288223</td>\n      <td>1.000000</td>\n      <td>-0.577537</td>\n      <td>0.222682</td>\n      <td>0.210244</td>\n      <td>-0.430696</td>\n    </tr>\n    <tr>\n      <th>slp</th>\n      <td>-0.168814</td>\n      <td>-0.030711</td>\n      <td>0.119717</td>\n      <td>-0.121475</td>\n      <td>-0.004038</td>\n      <td>-0.059894</td>\n      <td>0.093045</td>\n      <td>0.386784</td>\n      <td>-0.257748</td>\n      <td>-0.577537</td>\n      <td>1.000000</td>\n      <td>-0.080155</td>\n      <td>-0.104764</td>\n      <td>0.345877</td>\n    </tr>\n    <tr>\n      <th>caa</th>\n      <td>0.276326</td>\n      <td>0.118261</td>\n      <td>-0.181053</td>\n      <td>0.101389</td>\n      <td>0.070511</td>\n      <td>0.137979</td>\n      <td>-0.072042</td>\n      <td>-0.213177</td>\n      <td>0.115739</td>\n      <td>0.222682</td>\n      <td>-0.080155</td>\n      <td>1.000000</td>\n      <td>0.151832</td>\n      <td>-0.391724</td>\n    </tr>\n    <tr>\n      <th>thall</th>\n      <td>0.068001</td>\n      <td>0.210041</td>\n      <td>-0.161736</td>\n      <td>0.062210</td>\n      <td>0.098803</td>\n      <td>-0.032019</td>\n      <td>-0.011981</td>\n      <td>-0.096439</td>\n      <td>0.206754</td>\n      <td>0.210244</td>\n      <td>-0.104764</td>\n      <td>0.151832</td>\n      <td>1.000000</td>\n      <td>-0.344029</td>\n    </tr>\n    <tr>\n      <th>output</th>\n      <td>-0.225439</td>\n      <td>-0.280937</td>\n      <td>0.433798</td>\n      <td>-0.144931</td>\n      <td>-0.085239</td>\n      <td>-0.028046</td>\n      <td>0.137230</td>\n      <td>0.421741</td>\n      <td>-0.436757</td>\n      <td>-0.430696</td>\n      <td>0.345877</td>\n      <td>-0.391724</td>\n      <td>-0.344029</td>\n      <td>1.000000</td>\n    </tr>\n  </tbody>\n</table>\n</div>"
          },
          "metadata": {}
        }
      ]
    },
    {
      "cell_type": "code",
      "metadata": {
        "id": "lqJ7OfdHxCYX",
        "execution": {
          "iopub.status.busy": "2021-07-16T15:15:29.341267Z",
          "iopub.execute_input": "2021-07-16T15:15:29.341874Z",
          "iopub.status.idle": "2021-07-16T15:15:29.812600Z",
          "shell.execute_reply.started": "2021-07-16T15:15:29.341838Z",
          "shell.execute_reply": "2021-07-16T15:15:29.811547Z"
        },
        "trusted": true,
        "outputId": "7e859b95-4490-46d9-938d-5aab57923449"
      },
      "source": [
        "sns.heatmap(corr)"
      ],
      "execution_count": null,
      "outputs": [
        {
          "execution_count": 6,
          "output_type": "execute_result",
          "data": {
            "text/plain": "<AxesSubplot:>"
          },
          "metadata": {}
        },
        {
          "output_type": "display_data",
          "data": {
            "text/plain": "<Figure size 432x288 with 2 Axes>",
            "image/png": "[encoded data removed]"
          },
          "metadata": {
            "needs_background": "light"
          }
        }
      ]
    },
    {
      "cell_type": "code",
      "metadata": {
        "id": "-1WJ3jOJxtFH",
        "execution": {
          "iopub.status.busy": "2021-07-16T15:15:29.814285Z",
          "iopub.execute_input": "2021-07-16T15:15:29.814627Z",
          "iopub.status.idle": "2021-07-16T15:15:29.822878Z",
          "shell.execute_reply.started": "2021-07-16T15:15:29.814593Z",
          "shell.execute_reply": "2021-07-16T15:15:29.821832Z"
        },
        "trusted": true,
        "outputId": "ca187eb0-e639-425a-8bd0-2cd098f57c27"
      },
      "source": [
        "corr['output']"
      ],
      "execution_count": null,
      "outputs": [
        {
          "execution_count": 7,
          "output_type": "execute_result",
          "data": {
            "text/plain": "age        -0.225439\nsex        -0.280937\ncp          0.433798\ntrtbps     -0.144931\nchol       -0.085239\nfbs        -0.028046\nrestecg     0.137230\nthalachh    0.421741\nexng       -0.436757\noldpeak    -0.430696\nslp         0.345877\ncaa        -0.391724\nthall      -0.344029\noutput      1.000000\nName: output, dtype: float64"
          },
          "metadata": {}
        }
      ]
    },
    {
      "cell_type": "markdown",
      "metadata": {
        "id": "h-Gprf_v1l-B"
      },
      "source": [
        "**Since fbs and chol have the least effect hence they will be removed**\n",
        "\n"
      ]
    },
    {
      "cell_type": "code",
      "metadata": {
        "id": "cBrq9Gwj0gbI",
        "execution": {
          "iopub.status.busy": "2021-07-16T15:15:29.825924Z",
          "iopub.execute_input": "2021-07-16T15:15:29.826284Z",
          "iopub.status.idle": "2021-07-16T15:15:30.241822Z",
          "shell.execute_reply.started": "2021-07-16T15:15:29.826231Z",
          "shell.execute_reply": "2021-07-16T15:15:30.240861Z"
        },
        "trusted": true,
        "outputId": "02992d33-ed9b-4ce8-80c5-2b184ab5e7bf"
      },
      "source": [
        "sns.distplot(dataset['chol'])"
      ],
      "execution_count": null,
      "outputs": [
        {
          "name": "stderr",
          "text": "/opt/conda/lib/python3.7/site-packages/seaborn/distributions.py:2557: FutureWarning: `distplot` is a deprecated function and will be removed in a future version. Please adapt your code to use either `displot` (a figure-level function with similar flexibility) or `histplot` (an axes-level function for histograms).\n  warnings.warn(msg, FutureWarning)\n",
          "output_type": "stream"
        },
        {
          "execution_count": 8,
          "output_type": "execute_result",
          "data": {
            "text/plain": "<AxesSubplot:xlabel='chol', ylabel='Density'>"
          },
          "metadata": {}
        },
        {
          "output_type": "display_data",
          "data": {
            "text/plain": "<Figure size 432x288 with 1 Axes>",
            "image/png": "[encoded data removed]"
          },
          "metadata": {
            "needs_background": "light"
          }
        }
      ]
    },
    {
      "cell_type": "code",
      "metadata": {
        "id": "OGIlmYmd1sHx",
        "execution": {
          "iopub.status.busy": "2021-07-16T15:15:30.243724Z",
          "iopub.execute_input": "2021-07-16T15:15:30.244037Z",
          "iopub.status.idle": "2021-07-16T15:15:30.499061Z",
          "shell.execute_reply.started": "2021-07-16T15:15:30.244002Z",
          "shell.execute_reply": "2021-07-16T15:15:30.497959Z"
        },
        "trusted": true,
        "outputId": "c69ef888-c271-4eed-b9e0-c8c17188dbf5"
      },
      "source": [
        "sns.distplot(dataset['fbs'])"
      ],
      "execution_count": null,
      "outputs": [
        {
          "name": "stderr",
          "text": "/opt/conda/lib/python3.7/site-packages/seaborn/distributions.py:2557: FutureWarning: `distplot` is a deprecated function and will be removed in a future version. Please adapt your code to use either `displot` (a figure-level function with similar flexibility) or `histplot` (an axes-level function for histograms).\n  warnings.warn(msg, FutureWarning)\n",
          "output_type": "stream"
        },
        {
          "execution_count": 9,
          "output_type": "execute_result",
          "data": {
            "text/plain": "<AxesSubplot:xlabel='fbs', ylabel='Density'>"
          },
          "metadata": {}
        },
        {
          "output_type": "display_data",
          "data": {
            "text/plain": "<Figure size 432x288 with 1 Axes>",
            "image/png": "[encoded data removed]"
          },
          "metadata": {
            "needs_background": "light"
          }
        }
      ]
    },
    {
      "cell_type": "code",
      "metadata": {
        "id": "ZOsD-mbWJdA5",
        "execution": {
          "iopub.status.busy": "2021-07-16T15:15:30.500491Z",
          "iopub.execute_input": "2021-07-16T15:15:30.500826Z",
          "iopub.status.idle": "2021-07-16T15:15:30.507882Z",
          "shell.execute_reply.started": "2021-07-16T15:15:30.500782Z",
          "shell.execute_reply": "2021-07-16T15:15:30.506276Z"
        },
        "trusted": true
      },
      "source": [
        "dataset.drop(['fbs', 'chol'], axis = 1, inplace = True)"
      ],
      "execution_count": null,
      "outputs": []
    },
    {
      "cell_type": "code",
      "metadata": {
        "id": "jINWAgI2JyS5",
        "execution": {
          "iopub.status.busy": "2021-07-16T15:15:30.509698Z",
          "iopub.execute_input": "2021-07-16T15:15:30.510314Z",
          "iopub.status.idle": "2021-07-16T15:15:30.549351Z",
          "shell.execute_reply.started": "2021-07-16T15:15:30.510264Z",
          "shell.execute_reply": "2021-07-16T15:15:30.548118Z"
        },
        "trusted": true,
        "outputId": "4740c8d3-b608-4b1f-e89b-7d05214a6a57"
      },
      "source": [
        "dataset"
      ],
      "execution_count": null,
      "outputs": [
        {
          "execution_count": 11,
          "output_type": "execute_result",
          "data": {
            "text/plain": "     age  sex  cp  trtbps  restecg  thalachh  exng  oldpeak  slp  caa  thall  \\\n0     63    1   3     145        0       150     0      2.3    0    0      1   \n1     37    1   2     130        1       187     0      3.5    0    0      2   \n2     41    0   1     130        0       172     0      1.4    2    0      2   \n3     56    1   1     120        1       178     0      0.8    2    0      2   \n4     57    0   0     120        1       163     1      0.6    2    0      2   \n..   ...  ...  ..     ...      ...       ...   ...      ...  ...  ...    ...   \n298   57    0   0     140        1       123     1      0.2    1    0      3   \n299   45    1   3     110        1       132     0      1.2    1    0      3   \n300   68    1   0     144        1       141     0      3.4    1    2      3   \n301   57    1   0     130        1       115     1      1.2    1    1      3   \n302   57    0   1     130        0       174     0      0.0    1    1      2   \n\n     output  \n0         1  \n1         1  \n2         1  \n3         1  \n4         1  \n..      ...  \n298       0  \n299       0  \n300       0  \n301       0  \n302       0  \n\n[303 rows x 12 columns]",
            "text/html": "<div>\n<style scoped>\n    .dataframe tbody tr th:only-of-type {\n        vertical-align: middle;\n    }\n\n    .dataframe tbody tr th {\n        vertical-align: top;\n    }\n\n    .dataframe thead th {\n        text-align: right;\n    }\n</style>\n<table border=\"1\" class=\"dataframe\">\n  <thead>\n    <tr style=\"text-align: right;\">\n      <th></th>\n      <th>age</th>\n      <th>sex</th>\n      <th>cp</th>\n      <th>trtbps</th>\n      <th>restecg</th>\n      <th>thalachh</th>\n      <th>exng</th>\n      <th>oldpeak</th>\n      <th>slp</th>\n      <th>caa</th>\n      <th>thall</th>\n      <th>output</th>\n    </tr>\n  </thead>\n  <tbody>\n    <tr>\n      <th>0</th>\n      <td>63</td>\n      <td>1</td>\n      <td>3</td>\n      <td>145</td>\n      <td>0</td>\n      <td>150</td>\n      <td>0</td>\n      <td>2.3</td>\n      <td>0</td>\n      <td>0</td>\n      <td>1</td>\n      <td>1</td>\n    </tr>\n    <tr>\n      <th>1</th>\n      <td>37</td>\n      <td>1</td>\n      <td>2</td>\n      <td>130</td>\n      <td>1</td>\n      <td>187</td>\n      <td>0</td>\n      <td>3.5</td>\n      <td>0</td>\n      <td>0</td>\n      <td>2</td>\n      <td>1</td>\n    </tr>\n    <tr>\n      <th>2</th>\n      <td>41</td>\n      <td>0</td>\n      <td>1</td>\n      <td>130</td>\n      <td>0</td>\n      <td>172</td>\n      <td>0</td>\n      <td>1.4</td>\n      <td>2</td>\n      <td>0</td>\n      <td>2</td>\n      <td>1</td>\n    </tr>\n    <tr>\n      <th>3</th>\n      <td>56</td>\n      <td>1</td>\n      <td>1</td>\n      <td>120</td>\n      <td>1</td>\n      <td>178</td>\n      <td>0</td>\n      <td>0.8</td>\n      <td>2</td>\n      <td>0</td>\n      <td>2</td>\n      <td>1</td>\n    </tr>\n    <tr>\n      <th>4</th>\n      <td>57</td>\n      <td>0</td>\n      <td>0</td>\n      <td>120</td>\n      <td>1</td>\n      <td>163</td>\n      <td>1</td>\n      <td>0.6</td>\n      <td>2</td>\n      <td>0</td>\n      <td>2</td>\n      <td>1</td>\n    </tr>\n    <tr>\n      <th>...</th>\n      <td>...</td>\n      <td>...</td>\n      <td>...</td>\n      <td>...</td>\n      <td>...</td>\n      <td>...</td>\n      <td>...</td>\n      <td>...</td>\n      <td>...</td>\n      <td>...</td>\n      <td>...</td>\n      <td>...</td>\n    </tr>\n    <tr>\n      <th>298</th>\n      <td>57</td>\n      <td>0</td>\n      <td>0</td>\n      <td>140</td>\n      <td>1</td>\n      <td>123</td>\n      <td>1</td>\n      <td>0.2</td>\n      <td>1</td>\n      <td>0</td>\n      <td>3</td>\n      <td>0</td>\n    </tr>\n    <tr>\n      <th>299</th>\n      <td>45</td>\n      <td>1</td>\n      <td>3</td>\n      <td>110</td>\n      <td>1</td>\n      <td>132</td>\n      <td>0</td>\n      <td>1.2</td>\n      <td>1</td>\n      <td>0</td>\n      <td>3</td>\n      <td>0</td>\n    </tr>\n    <tr>\n      <th>300</th>\n      <td>68</td>\n      <td>1</td>\n      <td>0</td>\n      <td>144</td>\n      <td>1</td>\n      <td>141</td>\n      <td>0</td>\n      <td>3.4</td>\n      <td>1</td>\n      <td>2</td>\n      <td>3</td>\n      <td>0</td>\n    </tr>\n    <tr>\n      <th>301</th>\n      <td>57</td>\n      <td>1</td>\n      <td>0</td>\n      <td>130</td>\n      <td>1</td>\n      <td>115</td>\n      <td>1</td>\n      <td>1.2</td>\n      <td>1</td>\n      <td>1</td>\n      <td>3</td>\n      <td>0</td>\n    </tr>\n    <tr>\n      <th>302</th>\n      <td>57</td>\n      <td>0</td>\n      <td>1</td>\n      <td>130</td>\n      <td>0</td>\n      <td>174</td>\n      <td>0</td>\n      <td>0.0</td>\n      <td>1</td>\n      <td>1</td>\n      <td>2</td>\n      <td>0</td>\n    </tr>\n  </tbody>\n</table>\n<p>303 rows × 12 columns</p>\n</div>"
          },
          "metadata": {}
        }
      ]
    },
    {
      "cell_type": "code",
      "metadata": {
        "id": "UV_q80XnJcRZ",
        "execution": {
          "iopub.status.busy": "2021-07-16T15:15:30.550773Z",
          "iopub.execute_input": "2021-07-16T15:15:30.551162Z",
          "iopub.status.idle": "2021-07-16T15:15:30.563318Z",
          "shell.execute_reply.started": "2021-07-16T15:15:30.551128Z",
          "shell.execute_reply": "2021-07-16T15:15:30.561967Z"
        },
        "trusted": true
      },
      "source": [
        "X = dataset.iloc[:, :-1].values\n",
        "y = dataset.iloc[:, -1].values"
      ],
      "execution_count": null,
      "outputs": []
    },
    {
      "cell_type": "code",
      "metadata": {
        "id": "rZm7GdGeIIFr",
        "execution": {
          "iopub.status.busy": "2021-07-16T15:15:30.565159Z",
          "iopub.execute_input": "2021-07-16T15:15:30.565688Z",
          "iopub.status.idle": "2021-07-16T15:15:30.579377Z",
          "shell.execute_reply.started": "2021-07-16T15:15:30.565640Z",
          "shell.execute_reply": "2021-07-16T15:15:30.577798Z"
        },
        "trusted": true,
        "outputId": "dc103be5-1824-424d-8922-c743c80f6419"
      },
      "source": [
        "X"
      ],
      "execution_count": null,
      "outputs": [
        {
          "execution_count": 13,
          "output_type": "execute_result",
          "data": {
            "text/plain": "array([[63.,  1.,  3., ...,  0.,  0.,  1.],\n       [37.,  1.,  2., ...,  0.,  0.,  2.],\n       [41.,  0.,  1., ...,  2.,  0.,  2.],\n       ...,\n       [68.,  1.,  0., ...,  1.,  2.,  3.],\n       [57.,  1.,  0., ...,  1.,  1.,  3.],\n       [57.,  0.,  1., ...,  1.,  1.,  2.]])"
          },
          "metadata": {}
        }
      ]
    },
    {
      "cell_type": "markdown",
      "metadata": {
        "id": "YvxIPVyMhmKp"
      },
      "source": [
        "## Splitting the dataset into the Training set and Test set"
      ]
    },
    {
      "cell_type": "code",
      "metadata": {
        "id": "AVzJWAXIhxoC",
        "execution": {
          "iopub.status.busy": "2021-07-16T15:15:30.581220Z",
          "iopub.execute_input": "2021-07-16T15:15:30.581835Z",
          "iopub.status.idle": "2021-07-16T15:15:30.787483Z",
          "shell.execute_reply.started": "2021-07-16T15:15:30.581789Z",
          "shell.execute_reply": "2021-07-16T15:15:30.786383Z"
        },
        "trusted": true
      },
      "source": [
        "from sklearn.model_selection import train_test_split\n",
        "X_train, X_test, y_train, y_test = train_test_split(X, y, test_size = 0.25, random_state = 0)"
      ],
      "execution_count": null,
      "outputs": []
    },
    {
      "cell_type": "markdown",
      "metadata": {
        "id": "kW3c7UYih0hT"
      },
      "source": [
        "## Feature Scaling"
      ]
    },
    {
      "cell_type": "code",
      "metadata": {
        "id": "9fQlDPKCh8sc",
        "execution": {
          "iopub.status.busy": "2021-07-16T15:15:30.789196Z",
          "iopub.execute_input": "2021-07-16T15:15:30.789607Z",
          "iopub.status.idle": "2021-07-16T15:15:30.797813Z",
          "shell.execute_reply.started": "2021-07-16T15:15:30.789561Z",
          "shell.execute_reply": "2021-07-16T15:15:30.796536Z"
        },
        "trusted": true
      },
      "source": [
        "from sklearn.preprocessing import StandardScaler\n",
        "sc = StandardScaler()\n",
        "X_train = sc.fit_transform(X_train)\n",
        "X_test = sc.transform(X_test)"
      ],
      "execution_count": null,
      "outputs": []
    },
    {
      "cell_type": "markdown",
      "metadata": {
        "id": "bb6jCOCQiAmP"
      },
      "source": [
        "## Training the Logistic Regression model on the Training set"
      ]
    },
    {
      "cell_type": "markdown",
      "metadata": {
        "id": "JxuMQszm3Y0J"
      },
      "source": [
        "# Logistic Regression"
      ]
    },
    {
      "cell_type": "code",
      "metadata": {
        "id": "e0pFVAmciHQs",
        "execution": {
          "iopub.status.busy": "2021-07-16T15:15:30.799473Z",
          "iopub.execute_input": "2021-07-16T15:15:30.799920Z",
          "iopub.status.idle": "2021-07-16T15:15:31.038095Z",
          "shell.execute_reply.started": "2021-07-16T15:15:30.799884Z",
          "shell.execute_reply": "2021-07-16T15:15:31.037053Z"
        },
        "trusted": true
      },
      "source": [
        "from sklearn.linear_model import LogisticRegression\n",
        "classifier_lr = LogisticRegression(random_state = 0)\n",
        "classifier_lr.fit(X_train, y_train)\n",
        "y_pred_lr = classifier_lr.predict(X_test)"
      ],
      "execution_count": null,
      "outputs": []
    },
    {
      "cell_type": "code",
      "metadata": {
        "id": "p1qMEwCliWTT",
        "execution": {
          "iopub.status.busy": "2021-07-16T15:15:31.039523Z",
          "iopub.execute_input": "2021-07-16T15:15:31.039849Z",
          "iopub.status.idle": "2021-07-16T15:15:31.052592Z",
          "shell.execute_reply.started": "2021-07-16T15:15:31.039819Z",
          "shell.execute_reply": "2021-07-16T15:15:31.051443Z"
        },
        "trusted": true,
        "outputId": "e34723eb-e43a-491a-d323-e04cfec5cc01"
      },
      "source": [
        "from sklearn.metrics import confusion_matrix, accuracy_score\n",
        "cm_lr = confusion_matrix(y_test, y_pred_lr)\n",
        "print(cm_lr)\n",
        "accuracy_score(y_test, y_pred_lr)"
      ],
      "execution_count": null,
      "outputs": [
        {
          "name": "stdout",
          "text": "[[24  9]\n [ 4 39]]\n",
          "output_type": "stream"
        },
        {
          "execution_count": 17,
          "output_type": "execute_result",
          "data": {
            "text/plain": "0.8289473684210527"
          },
          "metadata": {}
        }
      ]
    },
    {
      "cell_type": "markdown",
      "metadata": {
        "id": "-h7t39Pi3dqm"
      },
      "source": [
        "# KNN"
      ]
    },
    {
      "cell_type": "code",
      "metadata": {
        "id": "cVDkbmTuKht0",
        "execution": {
          "iopub.status.busy": "2021-07-16T15:15:31.054073Z",
          "iopub.execute_input": "2021-07-16T15:15:31.054394Z",
          "iopub.status.idle": "2021-07-16T15:15:31.130538Z",
          "shell.execute_reply.started": "2021-07-16T15:15:31.054363Z",
          "shell.execute_reply": "2021-07-16T15:15:31.129312Z"
        },
        "trusted": true
      },
      "source": [
        "from sklearn.neighbors import KNeighborsClassifier\n",
        "classifier_knn = KNeighborsClassifier(n_neighbors = 10, metric = 'minkowski', p = 2)\n",
        "classifier_knn.fit(X_train, y_train)\n",
        "y_pred_knn = classifier_knn.predict(X_test)\n"
      ],
      "execution_count": null,
      "outputs": []
    },
    {
      "cell_type": "code",
      "metadata": {
        "id": "cR5KkmeJieTX",
        "execution": {
          "iopub.status.busy": "2021-07-16T15:15:31.131973Z",
          "iopub.execute_input": "2021-07-16T15:15:31.132306Z",
          "iopub.status.idle": "2021-07-16T15:15:31.143600Z",
          "shell.execute_reply.started": "2021-07-16T15:15:31.132275Z",
          "shell.execute_reply": "2021-07-16T15:15:31.142319Z"
        },
        "trusted": true,
        "outputId": "ca2c47d8-8ab2-4a6e-9c75-3d60170f121a"
      },
      "source": [
        "cm_knn = confusion_matrix(y_test, y_pred_knn)\n",
        "print(cm_knn)\n",
        "accuracy_score(y_test, y_pred_knn)"
      ],
      "execution_count": null,
      "outputs": [
        {
          "name": "stdout",
          "text": "[[26  7]\n [ 4 39]]\n",
          "output_type": "stream"
        },
        {
          "execution_count": 19,
          "output_type": "execute_result",
          "data": {
            "text/plain": "0.8552631578947368"
          },
          "metadata": {}
        }
      ]
    },
    {
      "cell_type": "markdown",
      "metadata": {
        "id": "S8h9c4Uk3f9t"
      },
      "source": [
        "# Kernel SVM"
      ]
    },
    {
      "cell_type": "code",
      "metadata": {
        "id": "Lf805eeiK6_y",
        "execution": {
          "iopub.status.busy": "2021-07-16T15:15:31.144936Z",
          "iopub.execute_input": "2021-07-16T15:15:31.145262Z",
          "iopub.status.idle": "2021-07-16T15:15:31.159063Z",
          "shell.execute_reply.started": "2021-07-16T15:15:31.145231Z",
          "shell.execute_reply": "2021-07-16T15:15:31.157911Z"
        },
        "trusted": true
      },
      "source": [
        "from sklearn.svm import SVC\n",
        "classifier_svm = SVC(kernel = 'rbf', random_state = 0)\n",
        "classifier_svm.fit(X_train, y_train)\n",
        "y_pred_svm = classifier_svm.predict(X_test)\n"
      ],
      "execution_count": null,
      "outputs": []
    },
    {
      "cell_type": "code",
      "metadata": {
        "id": "KUyvovhqimnr",
        "execution": {
          "iopub.status.busy": "2021-07-16T15:15:31.160651Z",
          "iopub.execute_input": "2021-07-16T15:15:31.160997Z",
          "iopub.status.idle": "2021-07-16T15:15:31.172723Z",
          "shell.execute_reply.started": "2021-07-16T15:15:31.160963Z",
          "shell.execute_reply": "2021-07-16T15:15:31.171938Z"
        },
        "trusted": true,
        "outputId": "192003c6-ce2d-4dd2-ebd4-82403abe1b1b"
      },
      "source": [
        "cm_svm = confusion_matrix(y_test, y_pred_svm)\n",
        "print(cm_svm)\n",
        "accuracy_score(y_test, y_pred_svm)"
      ],
      "execution_count": null,
      "outputs": [
        {
          "name": "stdout",
          "text": "[[24  9]\n [ 3 40]]\n",
          "output_type": "stream"
        },
        {
          "execution_count": 21,
          "output_type": "execute_result",
          "data": {
            "text/plain": "0.8421052631578947"
          },
          "metadata": {}
        }
      ]
    },
    {
      "cell_type": "markdown",
      "metadata": {
        "id": "TNSwBNvq3jYD"
      },
      "source": [
        "# Naiive Bayes"
      ]
    },
    {
      "cell_type": "code",
      "metadata": {
        "id": "tMREuhsWLAUy",
        "execution": {
          "iopub.status.busy": "2021-07-16T15:15:31.173767Z",
          "iopub.execute_input": "2021-07-16T15:15:31.174071Z",
          "iopub.status.idle": "2021-07-16T15:15:31.186654Z",
          "shell.execute_reply.started": "2021-07-16T15:15:31.174029Z",
          "shell.execute_reply": "2021-07-16T15:15:31.185374Z"
        },
        "trusted": true
      },
      "source": [
        "from sklearn.naive_bayes import GaussianNB\n",
        "classifier_nb = GaussianNB()\n",
        "classifier_nb.fit(X_train, y_train)\n",
        "y_pred_nb = classifier_nb.predict(X_test)\n"
      ],
      "execution_count": null,
      "outputs": []
    },
    {
      "cell_type": "code",
      "metadata": {
        "id": "-AFqpih2it6k",
        "execution": {
          "iopub.status.busy": "2021-07-16T15:15:31.190262Z",
          "iopub.execute_input": "2021-07-16T15:15:31.190684Z",
          "iopub.status.idle": "2021-07-16T15:15:31.201224Z",
          "shell.execute_reply.started": "2021-07-16T15:15:31.190646Z",
          "shell.execute_reply": "2021-07-16T15:15:31.199860Z"
        },
        "trusted": true,
        "outputId": "612cd5fc-dfdc-461d-c9a1-51d90061d67e"
      },
      "source": [
        "cm_nb = confusion_matrix(y_test, y_pred_nb)\n",
        "print(cm_nb)\n",
        "accuracy_score(y_test, y_pred_nb)"
      ],
      "execution_count": null,
      "outputs": [
        {
          "name": "stdout",
          "text": "[[24  9]\n [ 5 38]]\n",
          "output_type": "stream"
        },
        {
          "execution_count": 23,
          "output_type": "execute_result",
          "data": {
            "text/plain": "0.8157894736842105"
          },
          "metadata": {}
        }
      ]
    },
    {
      "cell_type": "markdown",
      "metadata": {
        "id": "GuiHV_y_3luu"
      },
      "source": [
        "# Decision Tree"
      ]
    },
    {
      "cell_type": "code",
      "metadata": {
        "id": "-qqTYJfCL_na",
        "execution": {
          "iopub.status.busy": "2021-07-16T15:15:31.203008Z",
          "iopub.execute_input": "2021-07-16T15:15:31.203411Z",
          "iopub.status.idle": "2021-07-16T15:15:31.239370Z",
          "shell.execute_reply.started": "2021-07-16T15:15:31.203375Z",
          "shell.execute_reply": "2021-07-16T15:15:31.238465Z"
        },
        "trusted": true
      },
      "source": [
        "from sklearn.tree import DecisionTreeClassifier\n",
        "classifier_dt = DecisionTreeClassifier(criterion = 'entropy', random_state = 0)\n",
        "classifier_dt.fit(X_train, y_train)\n",
        "y_pred_dt = classifier_dt.predict(X_test)\n"
      ],
      "execution_count": null,
      "outputs": []
    },
    {
      "cell_type": "code",
      "metadata": {
        "id": "tA5RnJx-i2Ib",
        "execution": {
          "iopub.status.busy": "2021-07-16T15:15:31.242719Z",
          "iopub.execute_input": "2021-07-16T15:15:31.243051Z",
          "iopub.status.idle": "2021-07-16T15:15:31.253277Z",
          "shell.execute_reply.started": "2021-07-16T15:15:31.243021Z",
          "shell.execute_reply": "2021-07-16T15:15:31.252110Z"
        },
        "trusted": true,
        "outputId": "cd9e6282-f3ce-4115-b862-239b4ff4f532"
      },
      "source": [
        "cm_dt = confusion_matrix(y_test, y_pred_dt)\n",
        "print(cm_dt)\n",
        "accuracy_score(y_test, y_pred_dt)"
      ],
      "execution_count": null,
      "outputs": [
        {
          "name": "stdout",
          "text": "[[26  7]\n [10 33]]\n",
          "output_type": "stream"
        },
        {
          "execution_count": 25,
          "output_type": "execute_result",
          "data": {
            "text/plain": "0.7763157894736842"
          },
          "metadata": {}
        }
      ]
    },
    {
      "cell_type": "markdown",
      "metadata": {
        "id": "SaRvyhaH3rJt"
      },
      "source": [
        "# Random Forest"
      ]
    },
    {
      "cell_type": "code",
      "metadata": {
        "id": "fu_9w7XxMOdK",
        "execution": {
          "iopub.status.busy": "2021-07-16T15:15:31.254905Z",
          "iopub.execute_input": "2021-07-16T15:15:31.255352Z",
          "iopub.status.idle": "2021-07-16T15:15:31.322307Z",
          "shell.execute_reply.started": "2021-07-16T15:15:31.255307Z",
          "shell.execute_reply": "2021-07-16T15:15:31.321101Z"
        },
        "trusted": true
      },
      "source": [
        "from sklearn.ensemble import RandomForestClassifier\n",
        "classifier_rf = RandomForestClassifier(n_estimators = 10, criterion = 'entropy', random_state = 0)\n",
        "classifier_rf.fit(X_train, y_train)\n",
        "y_pred_rf = classifier_rf.predict(X_test)"
      ],
      "execution_count": null,
      "outputs": []
    },
    {
      "cell_type": "code",
      "metadata": {
        "id": "jMZRU2Vsi9in",
        "execution": {
          "iopub.status.busy": "2021-07-16T15:15:31.323976Z",
          "iopub.execute_input": "2021-07-16T15:15:31.324457Z",
          "iopub.status.idle": "2021-07-16T15:15:31.335442Z",
          "shell.execute_reply.started": "2021-07-16T15:15:31.324400Z",
          "shell.execute_reply": "2021-07-16T15:15:31.334238Z"
        },
        "trusted": true,
        "outputId": "196be152-f618-4c8c-f37a-94e18133df5f"
      },
      "source": [
        "cm_rf = confusion_matrix(y_test, y_pred_rf)\n",
        "print(cm_rf)\n",
        "accuracy_score(y_test, y_pred_rf)"
      ],
      "execution_count": null,
      "outputs": [
        {
          "name": "stdout",
          "text": "[[24  9]\n [ 5 38]]\n",
          "output_type": "stream"
        },
        {
          "execution_count": 27,
          "output_type": "execute_result",
          "data": {
            "text/plain": "0.8157894736842105"
          },
          "metadata": {}
        }
      ]
    },
    {
      "cell_type": "markdown",
      "metadata": {
        "id": "IbZh2MjF3tRK"
      },
      "source": [
        "# Comparision of models"
      ]
    },
    {
      "cell_type": "code",
      "metadata": {
        "id": "OwycUN8tjTO3",
        "execution": {
          "iopub.status.busy": "2021-07-16T15:15:31.337121Z",
          "iopub.execute_input": "2021-07-16T15:15:31.337698Z",
          "iopub.status.idle": "2021-07-16T15:15:31.552365Z",
          "shell.execute_reply.started": "2021-07-16T15:15:31.337652Z",
          "shell.execute_reply": "2021-07-16T15:15:31.551181Z"
        },
        "trusted": true,
        "outputId": "e24d4672-c2d4-4cec-e839-3a9a69374f0a"
      },
      "source": [
        "x_axis = ['Logistic reg', 'KNN', 'SVM', 'Naiive Bayes', 'Descision tree', 'Random forest']\n",
        "y_axis = [accuracy_score(y_test, y_pred_lr)*100, accuracy_score(y_test, y_pred_knn)*100, accuracy_score(y_test, y_pred_svm)*100, accuracy_score(y_test, y_pred_nb)*100, accuracy_score(y_test, y_pred_dt)*100, accuracy_score(y_test, y_pred_rf)*100]\n",
        "plt.bar(x_axis, y_axis)\n",
        "plt.title('Comparision of accuracy of each model')\n",
        "plt.xlabel('Models')\n",
        "plt.ylabel('% Accuracy')"
      ],
      "execution_count": null,
      "outputs": [
        {
          "execution_count": 28,
          "output_type": "execute_result",
          "data": {
            "text/plain": "Text(0, 0.5, '% Accuracy')"
          },
          "metadata": {}
        },
        {
          "output_type": "display_data",
          "data": {
            "text/plain": "<Figure size 432x288 with 1 Axes>",
            "image/png": "[encoded data removed]"
          },
          "metadata": {
            "needs_background": "light"
          }
        }
      ]
    },
    {
      "cell_type": "markdown",
      "metadata": {
        "id": "krhd50XH3xzk"
      },
      "source": [
        "Hence KNN is the most accurate"
      ]
    },
    {
      "cell_type": "markdown",
      "metadata": {
        "id": "q1hWIqvw319K"
      },
      "source": [
        "Thanks!"
      ]
    }
  ]
}